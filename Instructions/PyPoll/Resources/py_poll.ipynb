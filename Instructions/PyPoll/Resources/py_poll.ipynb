{
 "cells": [
  {
   "cell_type": "code",
   "execution_count": 1,
   "metadata": {},
   "outputs": [],
   "source": [
    "# Dependencies\n",
    "import pandas as pd\n",
    "import os\n",
    "import csv"
   ]
  },
  {
   "cell_type": "code",
   "execution_count": 2,
   "metadata": {},
   "outputs": [],
   "source": [
    "# Store filepath in a variable\n",
    "file = \"election_data.csv\""
   ]
  },
  {
   "cell_type": "code",
   "execution_count": 3,
   "metadata": {},
   "outputs": [],
   "source": [
    "# Read our Data file with the pandas library\n",
    "df = pd.read_csv(file, encoding=\"ISO-8859-1\")"
   ]
  },
  {
   "cell_type": "code",
   "execution_count": 5,
   "metadata": {},
   "outputs": [
    {
     "data": {
      "text/html": [
       "<div>\n",
       "<style scoped>\n",
       "    .dataframe tbody tr th:only-of-type {\n",
       "        vertical-align: middle;\n",
       "    }\n",
       "\n",
       "    .dataframe tbody tr th {\n",
       "        vertical-align: top;\n",
       "    }\n",
       "\n",
       "    .dataframe thead th {\n",
       "        text-align: right;\n",
       "    }\n",
       "</style>\n",
       "<table border=\"1\" class=\"dataframe\">\n",
       "  <thead>\n",
       "    <tr style=\"text-align: right;\">\n",
       "      <th></th>\n",
       "      <th>Voter ID</th>\n",
       "      <th>County</th>\n",
       "      <th>Candidate</th>\n",
       "    </tr>\n",
       "  </thead>\n",
       "  <tbody>\n",
       "    <tr>\n",
       "      <th>0</th>\n",
       "      <td>12864552</td>\n",
       "      <td>Marsh</td>\n",
       "      <td>Khan</td>\n",
       "    </tr>\n",
       "    <tr>\n",
       "      <th>1</th>\n",
       "      <td>17444633</td>\n",
       "      <td>Marsh</td>\n",
       "      <td>Correy</td>\n",
       "    </tr>\n",
       "    <tr>\n",
       "      <th>2</th>\n",
       "      <td>19330107</td>\n",
       "      <td>Marsh</td>\n",
       "      <td>Khan</td>\n",
       "    </tr>\n",
       "    <tr>\n",
       "      <th>3</th>\n",
       "      <td>19865775</td>\n",
       "      <td>Queen</td>\n",
       "      <td>Khan</td>\n",
       "    </tr>\n",
       "    <tr>\n",
       "      <th>4</th>\n",
       "      <td>11927875</td>\n",
       "      <td>Marsh</td>\n",
       "      <td>Khan</td>\n",
       "    </tr>\n",
       "  </tbody>\n",
       "</table>\n",
       "</div>"
      ],
      "text/plain": [
       "   Voter ID County Candidate\n",
       "0  12864552  Marsh      Khan\n",
       "1  17444633  Marsh    Correy\n",
       "2  19330107  Marsh      Khan\n",
       "3  19865775  Queen      Khan\n",
       "4  11927875  Marsh      Khan"
      ]
     },
     "execution_count": 5,
     "metadata": {},
     "output_type": "execute_result"
    }
   ],
   "source": [
    "df.head()"
   ]
  },
  {
   "cell_type": "code",
   "execution_count": 12,
   "metadata": {},
   "outputs": [
    {
     "data": {
      "text/plain": [
       "3521001"
      ]
     },
     "execution_count": 12,
     "metadata": {},
     "output_type": "execute_result"
    }
   ],
   "source": [
    "# total number of votes cast\n",
    "total_votes = df[\"Candidate\"].count()\n",
    "total_votes"
   ]
  },
  {
   "cell_type": "code",
   "execution_count": 38,
   "metadata": {},
   "outputs": [
    {
     "data": {
      "text/plain": [
       "Khan        2218231\n",
       "Correy       704200\n",
       "Li           492940\n",
       "O'Tooley     105630\n",
       "Name: Candidate, dtype: int64"
      ]
     },
     "execution_count": 38,
     "metadata": {},
     "output_type": "execute_result"
    }
   ],
   "source": [
    "candidate_votes = df[\"Candidate\"].value_counts()\n",
    "candidate_votes.reset_index()\n",
    "candidate_votes"
   ]
  },
  {
   "cell_type": "code",
   "execution_count": 119,
   "metadata": {},
   "outputs": [
    {
     "data": {
      "text/plain": [
       "63.0"
      ]
     },
     "execution_count": 119,
     "metadata": {},
     "output_type": "execute_result"
    }
   ],
   "source": [
    "# filter data for Khan\n",
    "khan_data = df.loc[df['Candidate'] == 'Khan']\n",
    "khan_data = khan_data.reset_index()\n",
    "khan_count= khan_data[\"Candidate\"].count()\n",
    "khan_percent = khan_count/total_votes\n",
    "khan_percent = ((khan_percent)*100).round(2)\n",
    "khan_percent"
   ]
  },
  {
   "cell_type": "code",
   "execution_count": 117,
   "metadata": {},
   "outputs": [
    {
     "data": {
      "text/plain": [
       "20.0"
      ]
     },
     "execution_count": 117,
     "metadata": {},
     "output_type": "execute_result"
    }
   ],
   "source": [
    "# filter data for Correy\n",
    "cor_data = df.loc[df['Candidate'] == 'Correy']\n",
    "cor_data = cor_data.reset_index()\n",
    "cor_count= cor_data[\"Candidate\"].count()\n",
    "correy_percent = cor_count/total_votes\n",
    "correy_percent = ((correy_percent)*100).round(2)\n",
    "correy_percent"
   ]
  },
  {
   "cell_type": "code",
   "execution_count": 116,
   "metadata": {},
   "outputs": [
    {
     "data": {
      "text/plain": [
       "14.0"
      ]
     },
     "execution_count": 116,
     "metadata": {},
     "output_type": "execute_result"
    }
   ],
   "source": [
    "# filter data for Li\n",
    "li_data = df.loc[df['Candidate'] == 'Li']\n",
    "li_data = li_data.reset_index()\n",
    "li_count= li_data[\"Candidate\"].count()\n",
    "li_percent = li_count/total_votes\n",
    "li_percent = (li_percent*100).round(2)\n",
    "li_percent"
   ]
  },
  {
   "cell_type": "code",
   "execution_count": 118,
   "metadata": {},
   "outputs": [
    {
     "data": {
      "text/plain": [
       "3.0"
      ]
     },
     "execution_count": 118,
     "metadata": {},
     "output_type": "execute_result"
    }
   ],
   "source": [
    "# filter data for O'Tolley\n",
    "ot_data = df.loc[df['Candidate'] == \"O'Tooley\"]\n",
    "ot_data = ot_data.reset_index()\n",
    "ot_count= ot_data[\"Candidate\"].count()\n",
    "ot_percent = (ot_count/total_votes)\n",
    "ot_percent = (ot_percent*100).round(2)\n",
    "ot_percent"
   ]
  },
  {
   "cell_type": "code",
   "execution_count": 124,
   "metadata": {},
   "outputs": [
    {
     "data": {
      "text/html": [
       "<div>\n",
       "<style scoped>\n",
       "    .dataframe tbody tr th:only-of-type {\n",
       "        vertical-align: middle;\n",
       "    }\n",
       "\n",
       "    .dataframe tbody tr th {\n",
       "        vertical-align: top;\n",
       "    }\n",
       "\n",
       "    .dataframe thead th {\n",
       "        text-align: right;\n",
       "    }\n",
       "</style>\n",
       "<table border=\"1\" class=\"dataframe\">\n",
       "  <thead>\n",
       "    <tr style=\"text-align: right;\">\n",
       "      <th></th>\n",
       "      <th>Percent</th>\n",
       "      <th>Votes</th>\n",
       "    </tr>\n",
       "  </thead>\n",
       "  <tbody>\n",
       "    <tr>\n",
       "      <th>Kahn</th>\n",
       "      <td>63.00%</td>\n",
       "      <td>2218231</td>\n",
       "    </tr>\n",
       "    <tr>\n",
       "      <th>Correy</th>\n",
       "      <td>20.00%</td>\n",
       "      <td>704200</td>\n",
       "    </tr>\n",
       "    <tr>\n",
       "      <th>Li</th>\n",
       "      <td>14.00%</td>\n",
       "      <td>492940</td>\n",
       "    </tr>\n",
       "    <tr>\n",
       "      <th>O'Tooley</th>\n",
       "      <td>3.00%</td>\n",
       "      <td>105630</td>\n",
       "    </tr>\n",
       "  </tbody>\n",
       "</table>\n",
       "</div>"
      ],
      "text/plain": [
       "         Percent    Votes\n",
       "Kahn      63.00%  2218231\n",
       "Correy    20.00%   704200\n",
       "Li        14.00%   492940\n",
       "O'Tooley   3.00%   105630"
      ]
     },
     "execution_count": 124,
     "metadata": {},
     "output_type": "execute_result"
    }
   ],
   "source": [
    "# initialize list of lists\n",
    "percent_data = [['Khan',khan_percent,khan_count],['Correy',correy_percent,cor_count],\n",
    "                ['Li',li_percent,li_count],['OTooley',ot_percent,ot_count]]\n",
    "\n",
    "\n",
    "# Create the pandas DataFrame\n",
    "percent_df = pd.DataFrame(percent_data, \n",
    "                         index = [\"Kahn\",\"Correy\",\"Li\",\"O'Tooley\"],\n",
    "                         columns = ['Name','Percent','Votes']\n",
    "                        )\n",
    "\n",
    "#format data\n",
    "percent_df[\"Percent\"] = percent_df[\"Percent\"].map(\"{:.2f}%\".format)\n",
    "percent_df.reset_index()\n",
    "\n",
    "# drop columns that will not be necessary for analysis\n",
    "clean_percent = percent_df.drop(columns=['Name'])\n",
    "\n",
    "clean_percent\n"
   ]
  },
  {
   "cell_type": "code",
   "execution_count": 123,
   "metadata": {},
   "outputs": [
    {
     "name": "stdout",
     "output_type": "stream",
     "text": [
      "Election Results\n",
      "------------------\n",
      "Total Votes:  3521001\n",
      "------------------\n",
      "Khan: 63.0 % ( 2218231 )\n",
      "Correy: 20.0 % ( 704200 )\n",
      "Li: 14.0 % ( 492940 )\n",
      "O'Tolley: 3.0 % ( 105630 )\n",
      "------------------\n",
      "Winner: Khan\n"
     ]
    }
   ],
   "source": [
    "# Summary\n",
    "print(\"Election Results\")\n",
    "print(\"------------------\")\n",
    "print(\"Total Votes: \", total_votes)\n",
    "print(\"------------------\")\n",
    "print (\"Khan:\", khan_percent, \"% (\", khan_count, \")\")\n",
    "print (\"Correy:\", correy_percent, \"% (\", cor_count, \")\")\n",
    "print (\"Li:\", li_percent, \"% (\", li_count, \")\")\n",
    "print (\"O'Tolley:\", ot_percent, \"% (\", ot_count, \")\")\n",
    "print(\"------------------\")\n",
    "print (\"Winner: Khan\")\n"
   ]
  },
  {
   "cell_type": "code",
   "execution_count": null,
   "metadata": {},
   "outputs": [],
   "source": []
  }
 ],
 "metadata": {
  "kernelspec": {
   "display_name": "Python 3",
   "language": "python",
   "name": "python3"
  },
  "language_info": {
   "codemirror_mode": {
    "name": "ipython",
    "version": 3
   },
   "file_extension": ".py",
   "mimetype": "text/x-python",
   "name": "python",
   "nbconvert_exporter": "python",
   "pygments_lexer": "ipython3",
   "version": "3.8.5"
  }
 },
 "nbformat": 4,
 "nbformat_minor": 4
}
